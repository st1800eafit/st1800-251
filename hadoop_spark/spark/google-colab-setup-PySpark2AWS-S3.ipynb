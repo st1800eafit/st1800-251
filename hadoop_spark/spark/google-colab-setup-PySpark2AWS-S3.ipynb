{
 "cells": [
  {
   "cell_type": "markdown",
   "metadata": {
    "colab_type": "text",
    "id": "kjKnwTnUo9tZ"
   },
   "source": [
    "# Data Processing using Pyspark"
   ]
  },
  {
   "cell_type": "code",
   "execution_count": null,
   "metadata": {
    "colab": {
     "base_uri": "https://localhost:8080/",
     "height": 54
    },
    "colab_type": "code",
    "executionInfo": {
     "elapsed": 714,
     "status": "ok",
     "timestamp": 1588731107774,
     "user": {
      "displayName": "Edwin Nelson Montoya",
      "photoUrl": "https://lh3.googleusercontent.com/a-/AOh14GjILjSTWuElShYykArf3wP0dfM9Ii9pN9Ff9hFxGQ=s64",
      "userId": "10708817807819244709"
     },
     "user_tz": 300
    },
    "id": "QOEQDmmhphD2",
    "outputId": "43fb033a-3342-4b54-9967-bfa92d07e14d"
   },
   "outputs": [],
   "source": [
    "#configuración en google colab de spark y pyspark\n",
    "from google.colab import drive\n",
    "drive.mount('/content/gdrive')"
   ]
  },
  {
   "cell_type": "code",
   "execution_count": null,
   "metadata": {
    "colab": {},
    "colab_type": "code",
    "id": "cKQ3ax7dtASF"
   },
   "outputs": [],
   "source": [
    "#instalar java y spark\n",
    "!apt-get install openjdk-11-jdk-headless -qq > /dev/null\n",
    "!wget -q https://downloads.apache.org/spark/spark-3.5.5/spark-3.5.5-bin-hadoop3.tgz\n",
    "!tar xf spark-3.5.5-bin-hadoop3.tgz\n",
    "!pip install -q findspark"
   ]
  },
  {
   "cell_type": "code",
   "execution_count": null,
   "metadata": {
    "colab": {},
    "colab_type": "code",
    "id": "Nxw3GWC5uQ_k"
   },
   "outputs": [],
   "source": [
    "import os\n",
    "os.environ[\"JAVA_HOME\"] = \"/usr/lib/jvm/java-11-openjdk-amd64\"\n",
    "os.environ[\"SPARK_HOME\"] = \"/content/spark-3.5.5-bin-hadoop3\""
   ]
  },
  {
   "cell_type": "code",
   "execution_count": null,
   "metadata": {},
   "outputs": [],
   "source": [
    "import findspark\n",
    "findspark.init()"
   ]
  },
  {
   "cell_type": "code",
   "execution_count": null,
   "metadata": {},
   "outputs": [],
   "source": [
    "!mkdir -p /content/jars\n",
    "!wget -q https://repo1.maven.org/maven2/org/apache/hadoop/hadoop-aws/3.3.4/hadoop-aws-3.3.4.jar -P /content/jars\n",
    "!wget -q https://repo1.maven.org/maven2/com/amazonaws/aws-java-sdk-bundle/1.11.1034/aws-java-sdk-bundle-1.11.1034.jar -P /content/jars"
   ]
  },
  {
   "cell_type": "code",
   "execution_count": null,
   "metadata": {
    "colab": {},
    "colab_type": "code",
    "id": "X81wyQ97vFEm"
   },
   "outputs": [],
   "source": [
    "from pyspark.sql import SparkSession\n",
    "\n",
    "jars = \"/content/jars/hadoop-aws-3.3.4.jar,/content/jars/aws-java-sdk-bundle-1.11.1034.jar\"\n",
    "\n",
    "spark = SparkSession.builder \\\n",
    "    .appName(\"S3Connection\") \\\n",
    "    .master(\"local[*]\") \\\n",
    "    .config(\"spark.jars\", jars) \\\n",
    "    .config('fs.s3a.access.key', \"AWS_ACCESS_KEY\") \\\n",
    "    .config('fs.s3a.secret.key', \"AWS_SECRET_KEY\") \\\n",
    "    .config('fs.s3a.session.token',\"AWS_SESSION_TOKEN\") \\\n",
    "    .config(\"spark.hadoop.fs.s3a.impl\", \"org.apache.hadoop.fs.s3a.S3AFileSystem\") \\\n",
    "    .config(\"spark.hadoop.fs.s3a.path.style.access\", \"true\") \\\n",
    "    .config(\"spark.hadoop.fs.s3a.endpoint\", \"s3.amazonaws.com\") \\\n",
    "    .getOrCreate()\n",
    "\n",
    "sc = spark.sparkContext"
   ]
  },
  {
   "cell_type": "code",
   "execution_count": null,
   "metadata": {
    "colab": {},
    "colab_type": "code",
    "id": "4GlJg-Ljo9tn"
   },
   "outputs": [],
   "source": [
    "# Load csv Dataset \n",
    "# desde S3\n",
    "df=spark.read.csv('s3://bucke_name/datasets/sample_data.csv',inferSchema=True,header=True)"
   ]
  },
  {
   "cell_type": "code",
   "execution_count": null,
   "metadata": {
    "colab": {
     "base_uri": "https://localhost:8080/",
     "height": 54
    },
    "colab_type": "code",
    "executionInfo": {
     "elapsed": 1074,
     "status": "ok",
     "timestamp": 1588731900503,
     "user": {
      "displayName": "Edwin Nelson Montoya",
      "photoUrl": "https://lh3.googleusercontent.com/a-/AOh14GjILjSTWuElShYykArf3wP0dfM9Ii9pN9Ff9hFxGQ=s64",
      "userId": "10708817807819244709"
     },
     "user_tz": 300
    },
    "id": "7wwDyGy1o9tq",
    "outputId": "effd5d61-1aea-4d37-f8c6-316c9120a507"
   },
   "outputs": [],
   "source": [
    "#columns of dataframe\n",
    "df"
   ]
  },
  {
   "cell_type": "code",
   "execution_count": null,
   "metadata": {
    "colab": {
     "base_uri": "https://localhost:8080/",
     "height": 34
    },
    "colab_type": "code",
    "executionInfo": {
     "elapsed": 1069,
     "status": "ok",
     "timestamp": 1588731904399,
     "user": {
      "displayName": "Edwin Nelson Montoya",
      "photoUrl": "https://lh3.googleusercontent.com/a-/AOh14GjILjSTWuElShYykArf3wP0dfM9Ii9pN9Ff9hFxGQ=s64",
      "userId": "10708817807819244709"
     },
     "user_tz": 300
    },
    "id": "iTuLwMcfo9tu",
    "outputId": "082a5574-0f89-49c1-b005-cfc17bd07177"
   },
   "outputs": [],
   "source": [
    "#check number of columns\n",
    "len(df.columns)"
   ]
  },
  {
   "cell_type": "code",
   "execution_count": null,
   "metadata": {
    "colab": {
     "base_uri": "https://localhost:8080/",
     "height": 168
    },
    "colab_type": "code",
    "executionInfo": {
     "elapsed": 617,
     "status": "ok",
     "timestamp": 1588731906929,
     "user": {
      "displayName": "Edwin Nelson Montoya",
      "photoUrl": "https://lh3.googleusercontent.com/a-/AOh14GjILjSTWuElShYykArf3wP0dfM9Ii9pN9Ff9hFxGQ=s64",
      "userId": "10708817807819244709"
     },
     "user_tz": 300
    },
    "id": "yZ7X6U9No9tx",
    "outputId": "ac6980fd-b9e8-4758-ee22-625debf63c15"
   },
   "outputs": [],
   "source": [
    "#number of records in dataframe\n",
    "df.columns"
   ]
  },
  {
   "cell_type": "code",
   "execution_count": null,
   "metadata": {
    "colab": {
     "base_uri": "https://localhost:8080/",
     "height": 34
    },
    "colab_type": "code",
    "executionInfo": {
     "elapsed": 1017,
     "status": "ok",
     "timestamp": 1588731911647,
     "user": {
      "displayName": "Edwin Nelson Montoya",
      "photoUrl": "https://lh3.googleusercontent.com/a-/AOh14GjILjSTWuElShYykArf3wP0dfM9Ii9pN9Ff9hFxGQ=s64",
      "userId": "10708817807819244709"
     },
     "user_tz": 300
    },
    "id": "oaorHkvko9t0",
    "outputId": "8dd5eb8d-23c1-465f-885e-248a1918dac7"
   },
   "outputs": [],
   "source": [
    "#shape of dataset\n",
    "print((df.count(),len(df.columns)))"
   ]
  },
  {
   "cell_type": "code",
   "execution_count": null,
   "metadata": {
    "colab": {
     "base_uri": "https://localhost:8080/",
     "height": 202
    },
    "colab_type": "code",
    "executionInfo": {
     "elapsed": 998,
     "status": "ok",
     "timestamp": 1588731914987,
     "user": {
      "displayName": "Edwin Nelson Montoya",
      "photoUrl": "https://lh3.googleusercontent.com/a-/AOh14GjILjSTWuElShYykArf3wP0dfM9Ii9pN9Ff9hFxGQ=s64",
      "userId": "10708817807819244709"
     },
     "user_tz": 300
    },
    "id": "xXRe9_Ofo9t3",
    "outputId": "04731618-e8d8-4ca4-b4d6-29013d20c792"
   },
   "outputs": [],
   "source": [
    "#printSchema\n",
    "df.printSchema()"
   ]
  },
  {
   "cell_type": "code",
   "execution_count": null,
   "metadata": {
    "colab": {
     "base_uri": "https://localhost:8080/",
     "height": 222
    },
    "colab_type": "code",
    "executionInfo": {
     "elapsed": 776,
     "status": "ok",
     "timestamp": 1588731918651,
     "user": {
      "displayName": "Edwin Nelson Montoya",
      "photoUrl": "https://lh3.googleusercontent.com/a-/AOh14GjILjSTWuElShYykArf3wP0dfM9Ii9pN9Ff9hFxGQ=s64",
      "userId": "10708817807819244709"
     },
     "user_tz": 300
    },
    "id": "mQJD8sYuo9t6",
    "outputId": "f1558f70-ce43-4c14-ce8e-19a77b48f71f"
   },
   "outputs": [],
   "source": [
    "#fisrt few rows of dataframe\n",
    "df.show(5)"
   ]
  }
 ],
 "metadata": {
  "colab": {
   "name": "google-colab-setup-PySpark.ipynb",
   "provenance": [],
   "toc_visible": true
  },
  "kernelspec": {
   "display_name": "Python 3.10.6 64-bit",
   "language": "python",
   "name": "python3"
  },
  "language_info": {
   "codemirror_mode": {
    "name": "ipython",
    "version": 3
   },
   "file_extension": ".py",
   "mimetype": "text/x-python",
   "name": "python",
   "nbconvert_exporter": "python",
   "pygments_lexer": "ipython3",
   "version": "3.10.8"
  },
  "vscode": {
   "interpreter": {
    "hash": "aee8b7b246df8f9039afb4144a1f6fd8d2ca17a180786b69acc140d282b71a49"
   }
  }
 },
 "nbformat": 4,
 "nbformat_minor": 1
}
