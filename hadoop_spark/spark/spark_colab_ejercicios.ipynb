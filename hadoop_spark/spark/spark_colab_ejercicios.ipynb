{
 "cells": [
  {
   "cell_type": "markdown",
   "metadata": {},
   "source": [
    "# Apache Spark en Google Colab\n",
    "Ejercicios de WordCount, DataFrame API y MLlib (clasificación)"
   ]
  },
  {
   "cell_type": "code",
   "execution_count": null,
   "id": "be82fe03",
   "metadata": {},
   "outputs": [],
   "source": [
    "#configuración en google colab de spark y pyspark\n",
    "from google.colab import drive\n",
    "drive.mount('/content/gdrive')"
   ]
  },
  {
   "cell_type": "code",
   "execution_count": null,
   "metadata": {},
   "outputs": [],
   "source": [
    "!apt-get install openjdk-8-jdk-headless -qq > /dev/null\n",
    "!wget -q https://downloads.apache.org/spark/spark-3.5.5/spark-3.5.5-bin-hadoop3.tgz\n",
    "!tar xf spark-3.5.5-bin-hadoop3.tgz\n",
    "!pip install -q findspark\n",
    "import os\n",
    "os.environ[\"JAVA_HOME\"] = \"/usr/lib/jvm/java-8-openjdk-amd64\"\n",
    "os.environ[\"SPARK_HOME\"] = \"/content/spark-3.5.5-bin-hadoop3\"\n",
    "import findspark\n",
    "findspark.init()"
   ]
  },
  {
   "cell_type": "markdown",
   "metadata": {},
   "source": [
    "## Ejemplo 1: WordCount con RDD"
   ]
  },
  {
   "cell_type": "code",
   "execution_count": null,
   "metadata": {},
   "outputs": [],
   "source": [
    "from pyspark import SparkContext\n",
    "sc = SparkContext.getOrCreate()\n",
    "\n",
    "text = sc.textFile(\"gdrive/MyDrive/st1800-251/datasets/gutenberg-en/*.txt\")\n",
    "# Simular archivo de texto\n",
    "# text = sc.parallelize([\"Hola Spark Hola Big Data\", \"Spark es rápido y poderoso\"])\n",
    "counts = text.flatMap(lambda x: x.split(\" \")) \\\n",
    "             .map(lambda x: (x, 1)) \\\n",
    "             .reduceByKey(lambda a, b: a + b)\n",
    "counts.collect()"
   ]
  },
  {
   "cell_type": "markdown",
   "metadata": {},
   "source": [
    "## Ejemplo 2: Análisis con DataFrame API"
   ]
  },
  {
   "cell_type": "code",
   "execution_count": null,
   "metadata": {},
   "outputs": [],
   "source": [
    "from pyspark.sql import SparkSession\n",
    "spark = SparkSession.builder.getOrCreate()\n",
    "\n",
    "# Simular DataFrame de ventas\n",
    "data = [(\"martillo\", 12000), (\"taladro\", 45000), (\"martillo\", 15000)]\n",
    "columns = [\"producto\", \"valor\"]\n",
    "df = spark.createDataFrame(data, columns)\n",
    "df.groupBy(\"producto\").sum(\"valor\").show()"
   ]
  },
  {
   "cell_type": "markdown",
   "metadata": {},
   "source": [
    "## Ejemplo 3: Clasificación con MLlib"
   ]
  },
  {
   "cell_type": "code",
   "execution_count": null,
   "metadata": {},
   "outputs": [],
   "source": [
    "from pyspark.ml.feature import VectorAssembler\n",
    "from pyspark.ml.classification import LogisticRegression\n",
    "\n",
    "df = spark.read.csv(\"gdrive/MyDrive/st1800-251/datasets/clientes.csv\", header=True, inferSchema=True)\n",
    "\n",
    "assembler = VectorAssembler(inputCols=[\"edad\", \"ingresos\"], outputCol=\"features\")\n",
    "data = assembler.transform(df).select(\"features\", df[\"comprador\"].alias(\"label\"))\n",
    "train, test = data.randomSplit([0.8, 0.2], seed=42)\n",
    "lr = LogisticRegression()\n",
    "model = lr.fit(train)\n",
    "model.transform(test).select(\"features\", \"label\", \"prediction\").show()"
   ]
  }
 ],
 "metadata": {
  "kernelspec": {
   "display_name": "base",
   "language": "python",
   "name": "python3"
  },
  "language_info": {
   "codemirror_mode": {
    "name": "ipython",
    "version": 3
   },
   "file_extension": ".py",
   "mimetype": "text/x-python",
   "name": "python",
   "nbconvert_exporter": "python",
   "pygments_lexer": "ipython3",
   "version": "3.12.7"
  }
 },
 "nbformat": 4,
 "nbformat_minor": 5
}
